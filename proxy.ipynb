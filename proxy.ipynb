{
  "nbformat": 4,
  "nbformat_minor": 0,
  "metadata": {
    "colab": {
      "provenance": [],
      "collapsed_sections": []
    },
    "kernelspec": {
      "name": "python3",
      "display_name": "Python 3"
    },
    "language_info": {
      "name": "python"
    }
  },
  "cells": [
    {
      "cell_type": "code",
      "execution_count": null,
      "metadata": {
        "id": "oYJOKav3X4ym",
        "outputId": "96a3fc81-3813-4d27-dcd6-60ae7908d44d",
        "colab": {
          "base_uri": "https://localhost:8080/"
        }
      },
      "outputs": [
        {
          "output_type": "stream",
          "name": "stdout",
          "text": [
            "Nhâp tuổi:12\n",
            "Sorry, the driver is too young to drive.\n"
          ]
        }
      ],
      "source": [
        "from abc import ABCMeta, abstractmethod\n",
        "\n",
        "\n",
        "NOT_IMPLEMENTED = \"You should implement this.\"\n",
        "\n",
        "\n",
        "class AbstractCar:\n",
        "    __metaclass__ = ABCMeta\n",
        "\n",
        "    @abstractmethod\n",
        "    def drive(self):\n",
        "        raise NotImplementedError(NOT_IMPLEMENTED)\n",
        "\n",
        "\n",
        "class Car(AbstractCar):\n",
        "    def drive(self) -> None:\n",
        "        print(\"Car has been driven!\")\n",
        "\n",
        "\n",
        "class Driver:\n",
        "    def __init__(self, age: int) -> None:\n",
        "        self.age = age\n",
        "\n",
        "\n",
        "class ProxyCar(AbstractCar):\n",
        "    def __init__(self, driver) -> None:\n",
        "        self.car = Car()\n",
        "        self.driver = driver\n",
        "\n",
        "    def drive(self) -> None:\n",
        "        if self.driver.age <= 16:\n",
        "            print(\"Sorry, the driver is too young to drive.\")\n",
        "        else:\n",
        "            self.car.drive()\n",
        "a = int(input('Nhâp tuổi:'))\n",
        "driver = Driver(a)\n",
        "car = ProxyCar(driver)\n",
        "car.drive()\n"
      ]
    },
    {
      "cell_type": "code",
      "source": [],
      "metadata": {
        "id": "PimsGamuw4S2"
      },
      "execution_count": null,
      "outputs": []
    }
  ]
}